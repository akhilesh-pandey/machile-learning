{
 "cells": [
  {
   "cell_type": "markdown",
   "metadata": {},
   "source": [
    "Akhilesh Pandey\n",
    "<br>\n",
    "email: akhilesh.sssihl@gmail.com\n",
    "<br>\n",
    "This code is an implementation of logistic regression for k class classification using 10 different hypothesis.\n",
    "<br>\n",
    "Date: 1/12/2017"
   ]
  },
  {
   "cell_type": "code",
   "execution_count": 1,
   "metadata": {
    "collapsed": true
   },
   "outputs": [],
   "source": [
    "import numpy as np\n",
    "from scipy.io import loadmat\n",
    "from sklearn import metrics\n",
    "import sys\n",
    "from itertools import repeat\n"
   ]
  },
  {
   "cell_type": "code",
   "execution_count": 2,
   "metadata": {
    "collapsed": true
   },
   "outputs": [],
   "source": [
    "def sigmoid (x,theta): \n",
    "    return 1.0/(1 + np.exp(-np.matmul(x,theta))) # activation function"
   ]
  },
  {
   "cell_type": "code",
   "execution_count": 3,
   "metadata": {
    "collapsed": true
   },
   "outputs": [],
   "source": [
    "def derivative(x,theta,y): \n",
    "    return np.matmul(x.T, sigmoid(x,theta) - y)  #derivative of sigmoid"
   ]
  },
  {
   "cell_type": "code",
   "execution_count": 4,
   "metadata": {
    "collapsed": true
   },
   "outputs": [],
   "source": [
    "def gdm(x,y,alpha, errTol, theta, thetaOld):\n",
    "    #norm= np.linalg.norm(thetaOld - theta,ord= 2)\n",
    "    #print \"norm\", norm\n",
    "\n",
    "    while np.linalg.norm(thetaOld - theta,ord= 2) > errTol:\n",
    "        thetaOld= theta\n",
    "        theta= thetaOld - alpha * derivative(x,thetaOld,y)\n",
    "        #norm= np.linalg.norm(thetaOld - theta,ord=2)\n",
    "        #print \"norm\",norm,\n",
    "    return theta"
   ]
  },
  {
   "cell_type": "code",
   "execution_count": 5,
   "metadata": {
    "collapsed": true
   },
   "outputs": [],
   "source": [
    "#load test data\n",
    "x= loadmat('trainData.mat')\n",
    "x= x['trainData']\n",
    "\n",
    "#load training labels\n",
    "y= loadmat('trainLabels.mat')\n",
    "y= y['trainLabels']\n"
   ]
  },
  {
   "cell_type": "code",
   "execution_count": 6,
   "metadata": {
    "collapsed": true
   },
   "outputs": [],
   "source": [
    "#load test data\n",
    "x_test= loadmat('testData.mat')\n",
    "x_test= x_test['testData']\n",
    "\n",
    "#load test labels\n",
    "y_test= loadmat('testLabels.mat')\n",
    "y_test= y_test['testLabels']\n"
   ]
  },
  {
   "cell_type": "code",
   "execution_count": 13,
   "metadata": {
    "collapsed": true
   },
   "outputs": [],
   "source": [
    "#insert a column of 1's in x\n",
    "x= np.insert(x,0,1, axis= 1)\n",
    "\n",
    "#insert a column of 1's in x_test\n",
    "x_test= np.insert(x_test,0,1,axis= 1)\n",
    "\n",
    "theta= np.ones(x[0].shape)\n",
    "thetaOld= theta * 9999"
   ]
  },
  {
   "cell_type": "code",
   "execution_count": 25,
   "metadata": {},
   "outputs": [],
   "source": [
    "#set parameters like stepsize and error tolerance\n",
    "alpha= 0.01\n",
    "errTol= 25"
   ]
  },
  {
   "cell_type": "code",
   "execution_count": 20,
   "metadata": {},
   "outputs": [
    {
     "name": "stderr",
     "output_type": "stream",
     "text": [
      "/home/akhilz/anaconda2/lib/python2.7/site-packages/ipykernel_launcher.py:2: RuntimeWarning: overflow encountered in exp\n",
      "  \n"
     ]
    }
   ],
   "source": [
    "yLabel= [[] for i in repeat(None,10)]\n",
    "for i in range(10):\n",
    "    for j in range(60000):\n",
    "        if y[j] == i:\n",
    "            yLabel[i].append(1)\n",
    "        else: yLabel[i].append(0)\n",
    "\n",
    "optTheta= list()\n",
    "for i in yLabel:\n",
    "    #optTheta.append( gdm(x,i,alpha,errTol,temp_theta,temp_theta_old) )\n",
    "    optTheta.append( gdm(x,i,alpha,errTol,theta,thetaOld) )\n"
   ]
  },
  {
   "cell_type": "code",
   "execution_count": 21,
   "metadata": {},
   "outputs": [
    {
     "name": "stderr",
     "output_type": "stream",
     "text": [
      "/home/akhilz/anaconda2/lib/python2.7/site-packages/ipykernel_launcher.py:2: RuntimeWarning: overflow encountered in exp\n",
      "  \n"
     ]
    }
   ],
   "source": [
    "#GET PREDICTED THETAS\n",
    "prediction = []\n",
    "for i in range(10):\n",
    "    prediction.append(sigmoid(x_test,optTheta[i]))\n",
    " \n",
    "y_predict= np.zeros(10000)\n",
    "#y_predicted stores the predicted values\n",
    "for i in range(10000):\n",
    "    maxNum=0 \n",
    "    maxIndex=0\n",
    "    for j in range(10):\n",
    "        if  prediction[j][i] > maxNum:\n",
    "            #print i,\" \",j\n",
    "            maxNum= prediction[j][i]\n",
    "            maxIndex= j\n",
    "    \n",
    "    y_predict[i]= maxIndex"
   ]
  },
  {
   "cell_type": "code",
   "execution_count": 22,
   "metadata": {},
   "outputs": [
    {
     "name": "stdout",
     "output_type": "stream",
     "text": [
      "[ 7.  2.  1. ...,  4.  5.  6.]\n",
      "accuracy achieved is:   0.8451\n"
     ]
    }
   ],
   "source": [
    "print y_predict\n",
    "\n",
    "count= 0\n",
    "for i in range(10000):\n",
    "    if y_predict[i] == y_test[i]:\n",
    "        count += 1\n",
    "print \"accuracy achieved is:  \",float(count)/(y_test.size)"
   ]
  }
 ],
 "metadata": {
  "kernelspec": {
   "display_name": "Python 2",
   "language": "python",
   "name": "python2"
  },
  "language_info": {
   "codemirror_mode": {
    "name": "ipython",
    "version": 2
   },
   "file_extension": ".py",
   "mimetype": "text/x-python",
   "name": "python",
   "nbconvert_exporter": "python",
   "pygments_lexer": "ipython2",
   "version": "2.7.14"
  }
 },
 "nbformat": 4,
 "nbformat_minor": 2
}
