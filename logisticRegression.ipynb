{
 "cells": [
  {
   "cell_type": "markdown",
   "metadata": {},
   "source": [
    "Akhilesh Pandey\n",
    "<br>\n",
    "email: akhilesh.sssihl@gmail.com\n",
    "<br>\n",
    "This code is an implementation of logistic regression for binary class classification.\n",
    "<br>\n",
    "Date: 1/12/2017"
   ]
  },
  {
   "cell_type": "code",
   "execution_count": 1,
   "metadata": {
    "collapsed": true
   },
   "outputs": [],
   "source": [
    "import numpy as np\n",
    "from scipy.io import loadmat\n",
    "from sklearn import metrics"
   ]
  },
  {
   "cell_type": "code",
   "execution_count": 2,
   "metadata": {
    "collapsed": true
   },
   "outputs": [],
   "source": [
    "# activation function\n",
    "def sigmoid (x,theta): \n",
    "    return 1.0/(1 + np.exp(-np.matmul(x,theta))) "
   ]
  },
  {
   "cell_type": "code",
   "execution_count": 3,
   "metadata": {
    "collapsed": true
   },
   "outputs": [],
   "source": [
    "#derivative of sigmoid\n",
    "def derivative(x,theta,y): \n",
    "    return np.matmul(x.T, sigmoid(x,theta) - y)"
   ]
  },
  {
   "cell_type": "code",
   "execution_count": 4,
   "metadata": {
    "collapsed": true
   },
   "outputs": [],
   "source": [
    "#gradient decent method\n",
    "def gdm(x,y,alpha, errTol, theta, thetaOld):\n",
    "    norm= np.linalg.norm(thetaOld - theta,ord= 2)\n",
    "    #print \"norm\", norm\n",
    "\n",
    "    while norm > errTol:\n",
    "        thetaOld= theta\n",
    "        theta= thetaOld - alpha * derivative(x,thetaOld,y)\n",
    "        norm= np.linalg.norm(thetaOld - theta,ord=2)\n",
    "        #print \"norm\",norm,\n",
    "    return theta\n"
   ]
  },
  {
   "cell_type": "code",
   "execution_count": 7,
   "metadata": {
    "collapsed": true
   },
   "outputs": [],
   "source": [
    "#load training data\n",
    "x= loadmat('mnistTrainImages.mat')\n",
    "x= x['trainData']\n",
    "\n",
    "#load training labels\n",
    "y= loadmat('mnistTrainLabels.mat')\n",
    "y= y['trainLabels']"
   ]
  },
  {
   "cell_type": "code",
   "execution_count": 8,
   "metadata": {
    "collapsed": true
   },
   "outputs": [],
   "source": [
    "#load test data\n",
    "x_test= loadmat('mnistTestImages.mat')\n",
    "x_test= x_test['testData']\n",
    "\n",
    "#load test labels\n",
    "y_test= loadmat('mnistTestLabels.mat')\n",
    "y_test= y_test['testLabels']"
   ]
  },
  {
   "cell_type": "code",
   "execution_count": 9,
   "metadata": {
    "collapsed": true
   },
   "outputs": [],
   "source": [
    "#insert a column of 1's in x\n",
    "x= np.insert(x,0,1, axis= 1)\n",
    "#x= x.reshape(x.size,)\n",
    "\n",
    "#insert a column of 1's in x_test\n",
    "x_test= np.insert(x_test,0,1,axis= 1)\n",
    "\n",
    "y = [i[0] for i in y]\n",
    "y = np.array(y)"
   ]
  },
  {
   "cell_type": "code",
   "execution_count": 10,
   "metadata": {
    "collapsed": true
   },
   "outputs": [],
   "source": [
    "theta= np.ones(x[0].shape)\n",
    "thetaOld= theta * 9999"
   ]
  },
  {
   "cell_type": "code",
   "execution_count": 15,
   "metadata": {
    "collapsed": true
   },
   "outputs": [],
   "source": [
    "#set parameters\n",
    "alpha=  0.01\n",
    "errTol= 2"
   ]
  },
  {
   "cell_type": "code",
   "execution_count": 16,
   "metadata": {},
   "outputs": [
    {
     "name": "stderr",
     "output_type": "stream",
     "text": [
      "/home/akhilz/anaconda2/lib/python2.7/site-packages/ipykernel_launcher.py:3: RuntimeWarning: overflow encountered in exp\n",
      "  This is separate from the ipykernel package so we can avoid doing imports until\n"
     ]
    }
   ],
   "source": [
    "#learn optimum theta\n",
    "theta= gdm(x,y,alpha,errTol, theta, thetaOld)"
   ]
  },
  {
   "cell_type": "code",
   "execution_count": 20,
   "metadata": {},
   "outputs": [
    {
     "name": "stderr",
     "output_type": "stream",
     "text": [
      "/home/akhilz/anaconda2/lib/python2.7/site-packages/ipykernel_launcher.py:3: RuntimeWarning: overflow encountered in exp\n",
      "  This is separate from the ipykernel package so we can avoid doing imports until\n"
     ]
    }
   ],
   "source": [
    "#run test data\n",
    "prediction= sigmoid(x_test,theta)\n",
    "\n",
    "#obtain vlaues after thresholding; here I'm taking thresholding value to be 0.5\n",
    "thresh= 0.5\n",
    "for i in range(prediction.size):\n",
    "    if prediction[i] > thresh:\n",
    "        prediction[i]= 1\n",
    "    else:\n",
    "        prediction[i]= 0"
   ]
  },
  {
   "cell_type": "code",
   "execution_count": 21,
   "metadata": {},
   "outputs": [
    {
     "name": "stdout",
     "output_type": "stream",
     "text": [
      "accuracy:   0.9911\n"
     ]
    }
   ],
   "source": [
    "#obtain accurcy\n",
    "count= 0\n",
    "for i in range(prediction.size):\n",
    "    if prediction[i] == y_test[i]:\n",
    "        count += 1\n",
    "print \"accuracy:  \",count/float(prediction.size)"
   ]
  },
  {
   "cell_type": "markdown",
   "metadata": {},
   "source": [
    "The accuracy is appreciable."
   ]
  }
 ],
 "metadata": {
  "kernelspec": {
   "display_name": "Python 2",
   "language": "python",
   "name": "python2"
  },
  "language_info": {
   "codemirror_mode": {
    "name": "ipython",
    "version": 2
   },
   "file_extension": ".py",
   "mimetype": "text/x-python",
   "name": "python",
   "nbconvert_exporter": "python",
   "pygments_lexer": "ipython2",
   "version": "2.7.14"
  }
 },
 "nbformat": 4,
 "nbformat_minor": 2
}
